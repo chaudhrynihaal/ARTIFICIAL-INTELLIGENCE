{
  "nbformat": 4,
  "nbformat_minor": 0,
  "metadata": {
    "colab": {
      "provenance": []
    },
    "kernelspec": {
      "name": "python3",
      "display_name": "Python 3"
    },
    "language_info": {
      "name": "python"
    }
  },
  "cells": [
    {
      "cell_type": "markdown",
      "source": [
        "A* ALGORITHM\n"
      ],
      "metadata": {
        "id": "EQcfvolTBGSY"
      }
    },
    {
      "cell_type": "code",
      "source": [
        "import heapq\n",
        "\n",
        "def heuristic(a, b):\n",
        "\n",
        "    return abs(b[0] - a[0]) + abs(b[1] - a[1])\n",
        "\n",
        "def a_star_search(grid, start, goal):\n",
        "    frontier = []\n",
        "    heapq.heappush(frontier, (0, start))\n",
        "    came_from = {start: None}\n",
        "    cost_so_far = {start: 0}\n",
        "\n",
        "    while frontier:\n",
        "        current = heapq.heappop(frontier)[1]\n",
        "\n",
        "        if current == goal:\n",
        "            break\n",
        "\n",
        "        for next in neighbors(grid, current):\n",
        "            new_cost = cost_so_far[current] + cost(grid, current, next)\n",
        "            if next not in cost_so_far or new_cost < cost_so_far[next]:\n",
        "                cost_so_far[next] = new_cost\n",
        "                priority = new_cost + heuristic(goal, next)\n",
        "                heapq.heappush(frontier, (priority, next))\n",
        "                came_from[next] = current\n",
        "\n",
        "    return reconstruct_path(came_from, start, goal)\n",
        "\n",
        "def neighbors(grid, node):\n",
        "    directions = [(1, 0), (-1, 0), (0, 1), (0, -1)]\n",
        "    result = []\n",
        "    for direction in directions:\n",
        "        next_node = (node[0] + direction[0], node[1] + direction[1])\n",
        "        if 0 <= next_node[0] < len(grid) and 0 <= next_node[1] < len(grid[0]):\n",
        "            result.append(next_node)\n",
        "    return result\n",
        "\n",
        "def cost(grid, from_node, to_node):\n",
        "\n",
        "    if grid[to_node[0]][to_node[1]] == 1:\n",
        "        return float('inf')  # High wall cant pass\n",
        "    elif grid[to_node[0]][to_node[1]] == 2:\n",
        "        return 2  # Short wall, can pass with a penalty\n",
        "    else:\n",
        "        return 1\n",
        "\n",
        "def reconstruct_path(came_from, start, goal):\n",
        "    current = goal\n",
        "    path = []\n",
        "    while current != start:\n",
        "        path.append(current)\n",
        "        current = came_from[current]\n",
        "    path.append(start)\n",
        "    path.reverse()\n",
        "    return path\n",
        "\n",
        "\n",
        "grid = [\n",
        "    [1, 0, 'S', 0, 1, 0, 0],\n",
        "    [1, 1, 0, 0, 0, 1, 1],\n",
        "    [0, 1, 0, 1, 2, 0, 0],\n",
        "    [1, 1, 2, 1, 1, 2, 1],\n",
        "    [0, 1, 0, 2, 0, 2, 0],\n",
        "    [0, 1, 1, 1, 0, 1, 1],\n",
        "    ['G', 0, 0, 0, 0, 0, 0]\n",
        "]\n",
        "goal = (6, 0)\n",
        "\n",
        "for row in range(len(grid)):\n",
        "    for col in range(len(grid[0])):\n",
        "        if grid[row][col] == 'S':\n",
        "            start = (row, col)\n",
        "            grid[row][col] = 0\n",
        "        elif grid[row][col] == 'G':\n",
        "            goal = (row, col)\n",
        "            grid[row][col] = 0\n",
        "\n",
        "path = a_star_search(grid, start, goal)\n",
        "print(\"Path:\", path)\n"
      ],
      "metadata": {
        "id": "tQTcrCaJBHYN"
      },
      "execution_count": null,
      "outputs": []
    }
  ]
}