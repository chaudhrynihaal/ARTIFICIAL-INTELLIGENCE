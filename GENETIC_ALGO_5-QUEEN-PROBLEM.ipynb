{
  "nbformat": 4,
  "nbformat_minor": 0,
  "metadata": {
    "colab": {
      "provenance": []
    },
    "kernelspec": {
      "name": "python3",
      "display_name": "Python 3"
    },
    "language_info": {
      "name": "python"
    }
  },
  "cells": [
    {
      "cell_type": "code",
      "source": [
        "import random"
      ],
      "metadata": {
        "id": "U6g3yS3BOWSf"
      },
      "execution_count": null,
      "outputs": []
    },
    {
      "cell_type": "code",
      "source": [
        "\n",
        "def initialize_population(population_size, board_size):\n",
        "    population = []\n",
        "    for _ in range(population_size):\n",
        "        chromosome = [random.randint(0, board_size-1) for _ in range(board_size)]\n",
        "        population.append(chromosome)\n",
        "    return population"
      ],
      "metadata": {
        "id": "xBUjbMH7OYY-"
      },
      "execution_count": null,
      "outputs": []
    },
    {
      "cell_type": "code",
      "source": [
        "\n",
        "def calculate_fitness(chromosome):\n",
        "    conflicts = 0\n",
        "    for i in range(len(chromosome)):\n",
        "        for j in range(i+1, len(chromosome)):\n",
        "            if chromosome[i] == chromosome[j] or abs(i - j) == abs(chromosome[i] - chromosome[j]):\n",
        "                conflicts += 1\n",
        "    return len(chromosome) * (len(chromosome) - 1) / 2 - conflicts"
      ],
      "metadata": {
        "id": "F9fBRRgyOaJm"
      },
      "execution_count": null,
      "outputs": []
    },
    {
      "cell_type": "code",
      "source": [
        "def tournament_selection(population, fitness_values, tournament_size):\n",
        "    selected_parents = []\n",
        "    for _ in range(len(population)):\n",
        "        tournament = random.sample(list(enumerate(fitness_values)), tournament_size)\n",
        "        winner = max(tournament, key=lambda x: x[1])\n",
        "        selected_parents.append(population[winner[0]])\n",
        "    return selected_parents"
      ],
      "metadata": {
        "id": "OE3e0_LEOce2"
      },
      "execution_count": null,
      "outputs": []
    },
    {
      "cell_type": "code",
      "source": [
        "def one_point_crossover(parent1, parent2):\n",
        "    crossover_point = random.randint(1, len(parent1) - 1)\n",
        "    child1 = parent1[:crossover_point] + parent2[crossover_point:]\n",
        "    child2 = parent2[:crossover_point] + parent1[crossover_point:]\n",
        "    return child1, child2"
      ],
      "metadata": {
        "id": "qSEUzGL-OfSG"
      },
      "execution_count": null,
      "outputs": []
    },
    {
      "cell_type": "code",
      "source": [
        "def mutate(chromosome, mutation_rate):\n",
        "    if random.random() < mutation_rate:\n",
        "        idx1, idx2 = random.sample(range(len(chromosome)), 2)\n",
        "        chromosome[idx1], chromosome[idx2] = chromosome[idx2], chromosome[idx1]\n",
        "    return chromosome"
      ],
      "metadata": {
        "id": "OZzdf5RCOiDc"
      },
      "execution_count": null,
      "outputs": []
    },
    {
      "cell_type": "code",
      "source": [
        "def genetic_algorithm(board_size, population_size, generations, tournament_size, mutation_rate):\n",
        "    population = initialize_population(population_size, board_size)\n",
        "    for _ in range(generations):\n",
        "        fitness_values = [calculate_fitness(chromosome) for chromosome in population]\n",
        "        parents = tournament_selection(population, fitness_values, tournament_size)\n",
        "        next_population = []\n",
        "        while len(next_population) < population_size:\n",
        "            parent1, parent2 = random.sample(parents, 2)\n",
        "            child1, child2 = one_point_crossover(parent1, parent2)\n",
        "            child1 = mutate(child1, mutation_rate)\n",
        "            child2 = mutate(child2, mutation_rate)\n",
        "            next_population.extend([child1, child2])\n",
        "        population = next_population[:population_size]\n",
        "    best_solution = max(population, key=calculate_fitness)\n",
        "    return best_solution"
      ],
      "metadata": {
        "id": "Qdsz_4vnOlPO"
      },
      "execution_count": null,
      "outputs": []
    },
    {
      "cell_type": "code",
      "execution_count": null,
      "metadata": {
        "colab": {
          "base_uri": "https://localhost:8080/"
        },
        "id": "XBrldW0ZNmDM",
        "outputId": "b0c7d5fc-2588-4da7-edd4-138f724eb133"
      },
      "outputs": [
        {
          "output_type": "stream",
          "name": "stdout",
          "text": [
            "Solution to the 8-Queens problem: [2, 4, 6, 1, 7, 5, 3, 0]\n"
          ]
        }
      ],
      "source": [
        "\n",
        "board_size = 8\n",
        "population_size = 100\n",
        "generations = 100\n",
        "tournament_size = 5\n",
        "mutation_rate = 0.1\n",
        "\n",
        "solution = genetic_algorithm(board_size, population_size, generations, tournament_size, mutation_rate)\n",
        "print(\"Solution to the {}-Queens problem: {}\".format(board_size, solution))"
      ]
    }
  ]
}