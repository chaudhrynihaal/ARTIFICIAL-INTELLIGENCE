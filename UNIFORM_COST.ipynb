{
  "nbformat": 4,
  "nbformat_minor": 0,
  "metadata": {
    "colab": {
      "provenance": []
    },
    "kernelspec": {
      "name": "python3",
      "display_name": "Python 3"
    },
    "language_info": {
      "name": "python"
    }
  },
  "cells": [
    {
      "cell_type": "markdown",
      "source": [
        "UNIFORM COST"
      ],
      "metadata": {
        "id": "hVmI4PFznArc"
      }
    },
    {
      "cell_type": "code",
      "execution_count": null,
      "metadata": {
        "id": "uEg22tZlm-lS"
      },
      "outputs": [],
      "source": [
        "import heapq\n",
        "\n",
        "class PriorityQueue:\n",
        "    def __init__(self):\n",
        "        self.elements = []\n",
        "\n",
        "    def empty(self):\n",
        "        return len(self.elements) == 0\n",
        "\n",
        "    def put(self, item, priority):\n",
        "        heapq.heappush(self.elements, (priority, item))\n",
        "\n",
        "    def get(self):\n",
        "        return heapq.heappop(self.elements)[1]\n",
        "\n",
        "def uniform_cost_search(graph, start, goal):\n",
        "\n",
        "    frontier = PriorityQueue()\n",
        "    frontier.put(start, 0)\n",
        "\n",
        "    came_from = {start: None}\n",
        "    cost_so_far = {start: 0}\n",
        "\n",
        "    while not frontier.empty():\n",
        "        current = frontier.get()\n",
        "\n",
        "        if current == goal:\n",
        "            break\n",
        "\n",
        "        for next in graph[current]:\n",
        "            new_cost = cost_so_far[current] + graph[current][next]\n",
        "            if next not in cost_so_far or new_cost < cost_so_far[next]:\n",
        "                cost_so_far[next] = new_cost\n",
        "                priority = new_cost\n",
        "                frontier.put(next, priority)\n",
        "                came_from[next] = current\n",
        "\n",
        "    path = []\n",
        "    current = goal\n",
        "    while current != start:\n",
        "        path.append(current)\n",
        "        current = came_from[current]\n",
        "    path.append(start)\n",
        "    path.reverse()\n",
        "\n",
        "    return path, cost_so_far[goal]"
      ]
    }
  ]
}