{
  "nbformat": 4,
  "nbformat_minor": 0,
  "metadata": {
    "colab": {
      "provenance": []
    },
    "kernelspec": {
      "name": "python3",
      "display_name": "Python 3"
    },
    "language_info": {
      "name": "python"
    }
  },
  "cells": [
    {
      "cell_type": "code",
      "source": [
        "import numpy as np\n",
        "import tensorflow as tf\n",
        "from tensorflow.keras.datasets import mnist, fashion_mnist\n",
        "from tensorflow.keras.models import Sequential\n",
        "from tensorflow.keras.layers import Dense, Flatten\n",
        "from sklearn.metrics import confusion_matrix\n",
        "import matplotlib.pyplot as plt\n"
      ],
      "metadata": {
        "id": "3NM1I37C8v0L"
      },
      "execution_count": null,
      "outputs": []
    },
    {
      "cell_type": "code",
      "source": [
        "# Load MNIST dataset  and Describe MNIST dataset\n",
        "\n",
        "\n",
        "(x_train_mnist, y_train_mnist), (x_test_mnist, y_test_mnist) = mnist.load_data()\n",
        "print(\"MNIST dataset:\")\n",
        "print(\"Number of training samples:\", x_train_mnist.shape[0])\n",
        "print(\"Number of testing samples:\", x_test_mnist.shape[0])\n",
        "print(\"Image shape:\", x_train_mnist[0].shape)\n",
        "print(\"Data type of images:\", x_train_mnist.dtype)\n",
        "print(\"Minimum pixel value:\", np.min(x_train_mnist))\n",
        "print(\"Maximum pixel value:\", np.max(x_train_mnist))\n",
        "print(\"Number of classes:\", len(np.unique(y_train_mnist)))"
      ],
      "metadata": {
        "colab": {
          "base_uri": "https://localhost:8080/"
        },
        "id": "0D-7prSb8zUo",
        "outputId": "934e3c47-54b6-49da-e611-2667c5500a09"
      },
      "execution_count": null,
      "outputs": [
        {
          "output_type": "stream",
          "name": "stdout",
          "text": [
            "MNIST dataset:\n",
            "Number of training samples: 60000\n",
            "Number of testing samples: 10000\n",
            "Image shape: (28, 28)\n",
            "Data type of images: uint8\n",
            "Minimum pixel value: 0\n",
            "Maximum pixel value: 255\n",
            "Number of classes: 10\n"
          ]
        }
      ]
    },
    {
      "cell_type": "code",
      "source": [
        "# Load Fashion MNIST dataset and Describe Fashion MNIST dataset\n",
        "\n",
        "\n",
        "(x_train_fashion, y_train_fashion), (x_test_fashion, y_test_fashion) = fashion_mnist.load_data()\n",
        "print(\"\\nFashion MNIST dataset:\")\n",
        "print(\"Number of training samples:\", x_train_fashion.shape[0])\n",
        "print(\"Number of testing samples:\", x_test_fashion.shape[0])\n",
        "print(\"Image shape:\", x_train_fashion[0].shape)\n",
        "print(\"Data type of images:\", x_train_fashion.dtype)\n",
        "print(\"Minimum pixel value:\", np.min(x_train_fashion))\n",
        "print(\"Maximum pixel value:\", np.max(x_train_fashion))\n",
        "print(\"Number of classes:\", len(np.unique(y_train_fashion)))"
      ],
      "metadata": {
        "colab": {
          "base_uri": "https://localhost:8080/"
        },
        "id": "JtblXkRH8zZc",
        "outputId": "8b8e1df2-672c-49a8-e3c1-a7864aa72192"
      },
      "execution_count": null,
      "outputs": [
        {
          "output_type": "stream",
          "name": "stdout",
          "text": [
            "\n",
            "Fashion MNIST dataset:\n",
            "Number of training samples: 60000\n",
            "Number of testing samples: 10000\n",
            "Image shape: (28, 28)\n",
            "Data type of images: uint8\n",
            "Minimum pixel value: 0\n",
            "Maximum pixel value: 255\n",
            "Number of classes: 10\n"
          ]
        }
      ]
    },
    {
      "cell_type": "code",
      "source": [
        "#normalize\n",
        "x_train_mnist, x_test_mnist = x_train_mnist / 255.0, x_test_mnist / 255.0\n",
        "#flattening\n",
        "x_train_mnist_flat = x_train_mnist.reshape(x_train_mnist.shape[0], -1)\n",
        "x_test_mnist_flat = x_test_mnist.reshape(x_test_mnist.shape[0], -1)"
      ],
      "metadata": {
        "id": "DyDftJzW8zcX"
      },
      "execution_count": null,
      "outputs": []
    },
    {
      "cell_type": "code",
      "source": [
        "#Normalize\n",
        "x_train_fashion, x_test_fashion = x_train_fashion / 255.0, x_test_fashion / 255.0\n",
        "#flattening the image\n",
        "x_train_fashion_flat = x_train_fashion.reshape(x_train_fashion.shape[0], -1)\n",
        "x_test_fashion_flat = x_test_fashion.reshape(x_test_fashion.shape[0], -1)"
      ],
      "metadata": {
        "id": "cDwVU5I88zf2"
      },
      "execution_count": null,
      "outputs": []
    },
    {
      "cell_type": "markdown",
      "source": [
        "**Defining The Models**\n"
      ],
      "metadata": {
        "id": "heq-9ZD29z93"
      }
    },
    {
      "cell_type": "code",
      "source": [
        "def single_layer_model(input_shape):\n",
        "    model = Sequential([\n",
        "        Flatten(input_shape=input_shape),\n",
        "        Dense(10, activation='softmax')\n",
        "    ])\n",
        "    return model"
      ],
      "metadata": {
        "id": "VaVPTpcd9wF1"
      },
      "execution_count": null,
      "outputs": []
    },
    {
      "cell_type": "code",
      "source": [
        "def mlp_model(input_shape):\n",
        "    model = Sequential([\n",
        "        Flatten(input_shape=input_shape),\n",
        "        Dense(128, activation='relu'),\n",
        "        Dense(10, activation='softmax')\n",
        "    ])\n",
        "    return model"
      ],
      "metadata": {
        "id": "QbKJ8luv9wIS"
      },
      "execution_count": null,
      "outputs": []
    },
    {
      "cell_type": "code",
      "source": [
        "def fully_connected_dnn(input_shape):\n",
        "    model = Sequential([\n",
        "        Flatten(input_shape=input_shape),\n",
        "        Dense(256, activation='relu'),\n",
        "        Dense(128, activation='relu'),\n",
        "        Dense(64, activation='relu'),\n",
        "        Dense(10, activation='softmax')\n",
        "    ])\n",
        "    return model"
      ],
      "metadata": {
        "id": "OiSdU4Ry9wK7"
      },
      "execution_count": null,
      "outputs": []
    },
    {
      "cell_type": "code",
      "source": [
        "def train_model(model, x_train, y_train, x_test, y_test, epochs=10):\n",
        "    model.compile(optimizer='adam',\n",
        "                  loss='sparse_categorical_crossentropy',\n",
        "                  metrics=['accuracy'])\n",
        "    model.fit(x_train, y_train, epochs=epochs, validation_data=(x_test, y_test))\n",
        "    # Evaluate the model\n",
        "    loss, accuracy = model.evaluate(x_test, y_test)\n",
        "    print(\"Test Loss:\", loss*100)\n",
        "    print(\"Test Accuracy:\", accuracy*100)\n"
      ],
      "metadata": {
        "id": "7nK6HE2G9wOZ"
      },
      "execution_count": null,
      "outputs": []
    },
    {
      "cell_type": "code",
      "source": [
        "input_shape_mnist = x_train_mnist_flat[0].shape\n",
        "\n",
        "print(\"Single Layer Network for MNIST:\")\n",
        "model_mnist_single = single_layer_model(input_shape_mnist)\n",
        "train_model(model_mnist_single, x_train_mnist_flat, y_train_mnist, x_test_mnist_flat, y_test_mnist)"
      ],
      "metadata": {
        "colab": {
          "base_uri": "https://localhost:8080/"
        },
        "id": "krCC6GiC-XZi",
        "outputId": "f06cb88c-b5e6-49b6-c445-d3541431d9bb"
      },
      "execution_count": null,
      "outputs": [
        {
          "output_type": "stream",
          "name": "stdout",
          "text": [
            "Single Layer Network for MNIST:\n",
            "Epoch 1/10\n",
            "1875/1875 [==============================] - 4s 2ms/step - loss: 0.4668 - accuracy: 0.8779 - val_loss: 0.3060 - val_accuracy: 0.9151\n",
            "Epoch 2/10\n",
            "1875/1875 [==============================] - 3s 2ms/step - loss: 0.3036 - accuracy: 0.9158 - val_loss: 0.2856 - val_accuracy: 0.9193\n",
            "Epoch 3/10\n",
            "1875/1875 [==============================] - 4s 2ms/step - loss: 0.2831 - accuracy: 0.9208 - val_loss: 0.2776 - val_accuracy: 0.9221\n",
            "Epoch 4/10\n",
            "1875/1875 [==============================] - 5s 2ms/step - loss: 0.2728 - accuracy: 0.9231 - val_loss: 0.2767 - val_accuracy: 0.9228\n",
            "Epoch 5/10\n",
            "1875/1875 [==============================] - 4s 2ms/step - loss: 0.2661 - accuracy: 0.9257 - val_loss: 0.2652 - val_accuracy: 0.9264\n",
            "Epoch 6/10\n",
            "1875/1875 [==============================] - 4s 2ms/step - loss: 0.2612 - accuracy: 0.9272 - val_loss: 0.2658 - val_accuracy: 0.9257\n",
            "Epoch 7/10\n",
            "1875/1875 [==============================] - 4s 2ms/step - loss: 0.2581 - accuracy: 0.9280 - val_loss: 0.2692 - val_accuracy: 0.9246\n",
            "Epoch 8/10\n",
            "1875/1875 [==============================] - 3s 2ms/step - loss: 0.2552 - accuracy: 0.9291 - val_loss: 0.2655 - val_accuracy: 0.9268\n",
            "Epoch 9/10\n",
            "1875/1875 [==============================] - 3s 2ms/step - loss: 0.2531 - accuracy: 0.9300 - val_loss: 0.2694 - val_accuracy: 0.9236\n",
            "Epoch 10/10\n",
            "1875/1875 [==============================] - 4s 2ms/step - loss: 0.2507 - accuracy: 0.9305 - val_loss: 0.2639 - val_accuracy: 0.9274\n",
            "313/313 [==============================] - 0s 1ms/step - loss: 0.2639 - accuracy: 0.9274\n",
            "Test Loss: 26.38551890850067\n",
            "Test Accuracy: 92.739999294281\n"
          ]
        }
      ]
    },
    {
      "cell_type": "code",
      "source": [
        "print(\"\\nMulti-Layer Perceptron for MNIST:\")\n",
        "model_mnist_mlp = mlp_model(input_shape_mnist)\n",
        "train_model(model_mnist_mlp, x_train_mnist_flat, y_train_mnist, x_test_mnist_flat, y_test_mnist)"
      ],
      "metadata": {
        "colab": {
          "base_uri": "https://localhost:8080/"
        },
        "id": "p_rzZw3I-Xcs",
        "outputId": "c19c61b6-81db-4fd1-879b-631d84806efa"
      },
      "execution_count": null,
      "outputs": [
        {
          "output_type": "stream",
          "name": "stdout",
          "text": [
            "\n",
            "Multi-Layer Perceptron for MNIST:\n",
            "Epoch 1/10\n",
            "1875/1875 [==============================] - 6s 3ms/step - loss: 0.2616 - accuracy: 0.9253 - val_loss: 0.1287 - val_accuracy: 0.9602\n",
            "Epoch 2/10\n",
            "1875/1875 [==============================] - 6s 3ms/step - loss: 0.1135 - accuracy: 0.9659 - val_loss: 0.1034 - val_accuracy: 0.9694\n",
            "Epoch 3/10\n",
            "1875/1875 [==============================] - 5s 3ms/step - loss: 0.0779 - accuracy: 0.9765 - val_loss: 0.0793 - val_accuracy: 0.9756\n",
            "Epoch 4/10\n",
            "1875/1875 [==============================] - 7s 4ms/step - loss: 0.0580 - accuracy: 0.9822 - val_loss: 0.0744 - val_accuracy: 0.9767\n",
            "Epoch 5/10\n",
            "1875/1875 [==============================] - 5s 3ms/step - loss: 0.0451 - accuracy: 0.9862 - val_loss: 0.0721 - val_accuracy: 0.9777\n",
            "Epoch 6/10\n",
            "1875/1875 [==============================] - 6s 3ms/step - loss: 0.0352 - accuracy: 0.9893 - val_loss: 0.0714 - val_accuracy: 0.9790\n",
            "Epoch 7/10\n",
            "1875/1875 [==============================] - 7s 4ms/step - loss: 0.0285 - accuracy: 0.9912 - val_loss: 0.0778 - val_accuracy: 0.9766\n",
            "Epoch 8/10\n",
            "1875/1875 [==============================] - 7s 4ms/step - loss: 0.0236 - accuracy: 0.9925 - val_loss: 0.0660 - val_accuracy: 0.9809\n",
            "Epoch 9/10\n",
            "1875/1875 [==============================] - 5s 3ms/step - loss: 0.0187 - accuracy: 0.9945 - val_loss: 0.0909 - val_accuracy: 0.9733\n",
            "Epoch 10/10\n",
            "1875/1875 [==============================] - 6s 3ms/step - loss: 0.0162 - accuracy: 0.9948 - val_loss: 0.0858 - val_accuracy: 0.9767\n",
            "313/313 [==============================] - 1s 2ms/step - loss: 0.0858 - accuracy: 0.9767\n",
            "Test Loss: 8.575842529535294\n",
            "Test Accuracy: 97.67000079154968\n"
          ]
        }
      ]
    },
    {
      "cell_type": "code",
      "source": [
        "print(\"\\nFully Connected DNN for MNIST:\")\n",
        "model_mnist_fully_connected = fully_connected_dnn(input_shape_mnist)\n",
        "train_model(model_mnist_fully_connected, x_train_mnist_flat, y_train_mnist, x_test_mnist_flat, y_test_mnist)"
      ],
      "metadata": {
        "colab": {
          "base_uri": "https://localhost:8080/"
        },
        "id": "RYWC_nEs-XeT",
        "outputId": "33bfba6f-4e4a-4bb6-eb9c-81c2e0bee249"
      },
      "execution_count": null,
      "outputs": [
        {
          "output_type": "stream",
          "name": "stdout",
          "text": [
            "\n",
            "Fully Connected DNN for MNIST:\n",
            "Epoch 1/10\n",
            "1875/1875 [==============================] - 9s 5ms/step - loss: 0.2157 - accuracy: 0.9349 - val_loss: 0.1086 - val_accuracy: 0.9669\n",
            "Epoch 2/10\n",
            "1875/1875 [==============================] - 10s 5ms/step - loss: 0.0936 - accuracy: 0.9712 - val_loss: 0.1015 - val_accuracy: 0.9688\n",
            "Epoch 3/10\n",
            "1875/1875 [==============================] - 7s 4ms/step - loss: 0.0680 - accuracy: 0.9786 - val_loss: 0.0815 - val_accuracy: 0.9751\n",
            "Epoch 4/10\n",
            "1875/1875 [==============================] - 8s 5ms/step - loss: 0.0484 - accuracy: 0.9846 - val_loss: 0.0685 - val_accuracy: 0.9788\n",
            "Epoch 5/10\n",
            "1875/1875 [==============================] - 8s 4ms/step - loss: 0.0396 - accuracy: 0.9873 - val_loss: 0.0902 - val_accuracy: 0.9751\n",
            "Epoch 6/10\n",
            "1875/1875 [==============================] - 7s 4ms/step - loss: 0.0338 - accuracy: 0.9895 - val_loss: 0.0781 - val_accuracy: 0.9799\n",
            "Epoch 7/10\n",
            "1875/1875 [==============================] - 8s 4ms/step - loss: 0.0291 - accuracy: 0.9906 - val_loss: 0.0738 - val_accuracy: 0.9810\n",
            "Epoch 8/10\n",
            "1875/1875 [==============================] - 7s 4ms/step - loss: 0.0255 - accuracy: 0.9919 - val_loss: 0.0857 - val_accuracy: 0.9790\n",
            "Epoch 9/10\n",
            "1875/1875 [==============================] - 8s 4ms/step - loss: 0.0237 - accuracy: 0.9924 - val_loss: 0.0788 - val_accuracy: 0.9805\n",
            "Epoch 10/10\n",
            "1875/1875 [==============================] - 9s 5ms/step - loss: 0.0201 - accuracy: 0.9937 - val_loss: 0.0808 - val_accuracy: 0.9817\n",
            "313/313 [==============================] - 1s 2ms/step - loss: 0.0808 - accuracy: 0.9817\n",
            "Test Loss: 8.082032203674316\n",
            "Test Accuracy: 98.17000031471252\n"
          ]
        }
      ]
    },
    {
      "cell_type": "code",
      "source": [
        "input_shape_fashion = x_train_fashion_flat[0].shape\n",
        "print(\"\\nSingle Layer Network for Fashion MNIST:\")\n",
        "model_fashion_single = single_layer_model(input_shape_fashion)\n",
        "train_model(model_fashion_single, x_train_fashion_flat, y_train_fashion, x_test_fashion_flat, y_test_fashion)"
      ],
      "metadata": {
        "colab": {
          "base_uri": "https://localhost:8080/"
        },
        "id": "BoWNELBq-Xhj",
        "outputId": "a5bf2a03-c43f-46ca-81de-d628281ec869"
      },
      "execution_count": null,
      "outputs": [
        {
          "output_type": "stream",
          "name": "stdout",
          "text": [
            "\n",
            "Single Layer Network for Fashion MNIST:\n",
            "Epoch 1/10\n",
            "1875/1875 [==============================] - 4s 2ms/step - loss: 0.5988 - accuracy: 0.7980 - val_loss: 0.5135 - val_accuracy: 0.8224\n",
            "Epoch 2/10\n",
            "1875/1875 [==============================] - 3s 2ms/step - loss: 0.4619 - accuracy: 0.8436 - val_loss: 0.4698 - val_accuracy: 0.8374\n",
            "Epoch 3/10\n",
            "1875/1875 [==============================] - 4s 2ms/step - loss: 0.4362 - accuracy: 0.8503 - val_loss: 0.4572 - val_accuracy: 0.8402\n",
            "Epoch 4/10\n",
            "1875/1875 [==============================] - 3s 2ms/step - loss: 0.4221 - accuracy: 0.8548 - val_loss: 0.4587 - val_accuracy: 0.8393\n",
            "Epoch 5/10\n",
            "1875/1875 [==============================] - 3s 2ms/step - loss: 0.4135 - accuracy: 0.8572 - val_loss: 0.4469 - val_accuracy: 0.8448\n",
            "Epoch 6/10\n",
            "1875/1875 [==============================] - 3s 2ms/step - loss: 0.4071 - accuracy: 0.8597 - val_loss: 0.4489 - val_accuracy: 0.8430\n",
            "Epoch 7/10\n",
            "1875/1875 [==============================] - 4s 2ms/step - loss: 0.4030 - accuracy: 0.8606 - val_loss: 0.4435 - val_accuracy: 0.8457\n",
            "Epoch 8/10\n",
            "1875/1875 [==============================] - 3s 2ms/step - loss: 0.3986 - accuracy: 0.8626 - val_loss: 0.4446 - val_accuracy: 0.8451\n",
            "Epoch 9/10\n",
            "1875/1875 [==============================] - 3s 2ms/step - loss: 0.3936 - accuracy: 0.8644 - val_loss: 0.4507 - val_accuracy: 0.8415\n",
            "Epoch 10/10\n",
            "1875/1875 [==============================] - 3s 2ms/step - loss: 0.3928 - accuracy: 0.8638 - val_loss: 0.4427 - val_accuracy: 0.8465\n",
            "313/313 [==============================] - 1s 2ms/step - loss: 0.4427 - accuracy: 0.8465\n",
            "Test Loss: 44.274988770484924\n",
            "Test Accuracy: 84.64999794960022\n"
          ]
        }
      ]
    },
    {
      "cell_type": "code",
      "source": [
        "print(\"\\nMulti-Layer Perceptron for Fashion MNIST:\")\n",
        "model_fashion_mlp = mlp_model(input_shape_fashion)\n",
        "train_model(model_fashion_mlp, x_train_fashion_flat, y_train_fashion, x_test_fashion_flat, y_test_fashion)"
      ],
      "metadata": {
        "colab": {
          "base_uri": "https://localhost:8080/"
        },
        "id": "bLZfyXRUAIVs",
        "outputId": "eaff33bf-e10c-4fc7-be6e-9a574d671fa3"
      },
      "execution_count": null,
      "outputs": [
        {
          "output_type": "stream",
          "name": "stdout",
          "text": [
            "\n",
            "Multi-Layer Perceptron for Fashion MNIST:\n",
            "Epoch 1/10\n",
            "1875/1875 [==============================] - 6s 3ms/step - loss: 0.4987 - accuracy: 0.8245 - val_loss: 0.4553 - val_accuracy: 0.8359\n",
            "Epoch 2/10\n",
            "1875/1875 [==============================] - 5s 3ms/step - loss: 0.3759 - accuracy: 0.8649 - val_loss: 0.4089 - val_accuracy: 0.8552\n",
            "Epoch 3/10\n",
            "1875/1875 [==============================] - 6s 3ms/step - loss: 0.3364 - accuracy: 0.8770 - val_loss: 0.3778 - val_accuracy: 0.8635\n",
            "Epoch 4/10\n",
            "1875/1875 [==============================] - 5s 3ms/step - loss: 0.3131 - accuracy: 0.8856 - val_loss: 0.3547 - val_accuracy: 0.8729\n",
            "Epoch 5/10\n",
            "1875/1875 [==============================] - 6s 3ms/step - loss: 0.2970 - accuracy: 0.8909 - val_loss: 0.3574 - val_accuracy: 0.8669\n",
            "Epoch 6/10\n",
            "1875/1875 [==============================] - 5s 3ms/step - loss: 0.2801 - accuracy: 0.8958 - val_loss: 0.3411 - val_accuracy: 0.8756\n",
            "Epoch 7/10\n",
            "1875/1875 [==============================] - 6s 3ms/step - loss: 0.2697 - accuracy: 0.8992 - val_loss: 0.3421 - val_accuracy: 0.8795\n",
            "Epoch 8/10\n",
            "1875/1875 [==============================] - 5s 3ms/step - loss: 0.2555 - accuracy: 0.9051 - val_loss: 0.3467 - val_accuracy: 0.8798\n",
            "Epoch 9/10\n",
            "1875/1875 [==============================] - 6s 3ms/step - loss: 0.2490 - accuracy: 0.9068 - val_loss: 0.3332 - val_accuracy: 0.8847\n",
            "Epoch 10/10\n",
            "1875/1875 [==============================] - 5s 3ms/step - loss: 0.2405 - accuracy: 0.9095 - val_loss: 0.3262 - val_accuracy: 0.8878\n",
            "313/313 [==============================] - 1s 2ms/step - loss: 0.3262 - accuracy: 0.8878\n",
            "Test Loss: 32.6189786195755\n",
            "Test Accuracy: 88.77999782562256\n"
          ]
        }
      ]
    },
    {
      "cell_type": "code",
      "source": [
        "print(\"\\nFully Connected DNN for Fashion MNIST:\")\n",
        "model_fashion_fully_connected = fully_connected_dnn(input_shape_fashion)\n",
        "train_model(model_fashion_fully_connected, x_train_fashion_flat, y_train_fashion, x_test_fashion_flat, y_test_fashion)"
      ],
      "metadata": {
        "colab": {
          "base_uri": "https://localhost:8080/"
        },
        "id": "3eHCZPRcAI2D",
        "outputId": "c69df442-afd6-4050-9d1b-1a5dbb8fd2e8"
      },
      "execution_count": null,
      "outputs": [
        {
          "output_type": "stream",
          "name": "stdout",
          "text": [
            "\n",
            "Fully Connected DNN for Fashion MNIST:\n",
            "Epoch 1/10\n",
            "1875/1875 [==============================] - 8s 4ms/step - loss: 0.4873 - accuracy: 0.8245 - val_loss: 0.4119 - val_accuracy: 0.8457\n",
            "Epoch 2/10\n",
            "1875/1875 [==============================] - 8s 4ms/step - loss: 0.3637 - accuracy: 0.8655 - val_loss: 0.3726 - val_accuracy: 0.8630\n",
            "Epoch 3/10\n",
            "1875/1875 [==============================] - 8s 4ms/step - loss: 0.3273 - accuracy: 0.8791 - val_loss: 0.3943 - val_accuracy: 0.8578\n",
            "Epoch 4/10\n",
            "1875/1875 [==============================] - 7s 4ms/step - loss: 0.3043 - accuracy: 0.8883 - val_loss: 0.3431 - val_accuracy: 0.8736\n",
            "Epoch 5/10\n",
            "1875/1875 [==============================] - 9s 5ms/step - loss: 0.2895 - accuracy: 0.8913 - val_loss: 0.3598 - val_accuracy: 0.8690\n",
            "Epoch 6/10\n",
            "1875/1875 [==============================] - 9s 5ms/step - loss: 0.2739 - accuracy: 0.8966 - val_loss: 0.3340 - val_accuracy: 0.8785\n",
            "Epoch 7/10\n",
            "1875/1875 [==============================] - 8s 4ms/step - loss: 0.2620 - accuracy: 0.9031 - val_loss: 0.3408 - val_accuracy: 0.8838\n",
            "Epoch 8/10\n",
            "1875/1875 [==============================] - 9s 5ms/step - loss: 0.2496 - accuracy: 0.9055 - val_loss: 0.3346 - val_accuracy: 0.8838\n",
            "Epoch 9/10\n",
            "1875/1875 [==============================] - 8s 4ms/step - loss: 0.2404 - accuracy: 0.9099 - val_loss: 0.3340 - val_accuracy: 0.8812\n",
            "Epoch 10/10\n",
            "1875/1875 [==============================] - 7s 4ms/step - loss: 0.2305 - accuracy: 0.9138 - val_loss: 0.3491 - val_accuracy: 0.8799\n",
            "313/313 [==============================] - 1s 2ms/step - loss: 0.3491 - accuracy: 0.8799\n",
            "Test Loss: 34.90851819515228\n",
            "Test Accuracy: 87.98999786376953\n"
          ]
        }
      ]
    }
  ]
}